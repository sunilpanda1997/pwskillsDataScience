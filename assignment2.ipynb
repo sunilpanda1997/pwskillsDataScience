{
 "cells": [
  {
   "cell_type": "markdown",
   "id": "09580c85-12cc-4543-8c62-a5371f93a6f9",
   "metadata": {},
   "source": [
    "Q1. How do you comment code in Python? What are the different types of comments?\n",
    "ans:\n",
    "In Python, we can add comments to your code to make it more readable and to explain the purpose of specific parts of our code.\n",
    "There are two types of comments in python:\n",
    "i.Single-line comments\n",
    "ii.Multi-line comments"
   ]
  },
  {
   "cell_type": "markdown",
   "id": "123980d9-a341-49e8-9687-decb65229b02",
   "metadata": {},
   "source": [
    "Q2. What are variables in Python? How do you declare and assign values to variables?\n",
    "ans:\n",
    "Variables in Python are used to store and manage data. They are like containers that hold values, and we can give them names for easy reference. \n",
    "To declare and assign values to variables in Python, we simply use the variable name on the left side of an equal sign (=) and assign a value to it on the right side.\n",
    "ex- x = 42"
   ]
  },
  {
   "cell_type": "markdown",
   "id": "d8d3f923-a470-4d25-ad27-5f83ad72b42d",
   "metadata": {},
   "source": [
    "Q3. How do you convert one data type to another in Python?\n",
    "ans:\n",
    "we can convert one data type to another in Python using type casting or conversion functions."
   ]
  },
  {
   "cell_type": "markdown",
   "id": "752cfcb1-200a-48ef-b5e7-a1873aad3078",
   "metadata": {},
   "source": [
    "Q4. How do you write and execute a Python script from the command line?\n",
    "ans:\n",
    "To write and execute a Python script from the command line, follow these steps:\n",
    "Create a Python script file with a .py extension, for example, sample.py\n",
    "Open a command prompt or terminal.\n",
    "Navigate to the directory where your script is located using the cd command.\n",
    "Execute the Python script using the python command followed by the script's filename \"python sample.py\""
   ]
  },
  {
   "cell_type": "markdown",
   "id": "99b5afa5-d015-4f36-8a99-1fe8a2d0c9ac",
   "metadata": {},
   "source": [
    "Q5. Given a list my_list = [1, 2, 3, 4, 5], write the code to slice the list and obtain the sub-list [2, 3]."
   ]
  },
  {
   "cell_type": "code",
   "execution_count": 2,
   "id": "6908bc38-1aa8-46d4-99a7-133e6152cf9b",
   "metadata": {},
   "outputs": [
    {
     "name": "stdout",
     "output_type": "stream",
     "text": [
      "[2, 3]\n"
     ]
    }
   ],
   "source": [
    "list = [1, 2, 3, 4, 5]\n",
    "print(list[1:3])"
   ]
  },
  {
   "cell_type": "markdown",
   "id": "479d72e8-622f-4fd3-9c82-65c6d504f0cc",
   "metadata": {},
   "source": [
    "Q6. What is a complex number in mathematics, and how is it represented in Python?\n",
    "ans:\n",
    "In mathematics, a complex number is a number that can be expressed in the form a + bi, where a and b are real numbers, and i is the imaginary unit, defined as the square root of -1. Complex numbers have both a real part (a) and an imaginary part (b).\n",
    "\n",
    "In Python, complex numbers are represented by using the j suffix for the imaginary part.\n",
    "ex-\n",
    "z = 3 + 2j"
   ]
  },
  {
   "cell_type": "markdown",
   "id": "9b460642-e71a-4d29-a77b-89a66254eb28",
   "metadata": {},
   "source": [
    "Q7. What is the correct way to declare a variable named age and assign the value 25 to it?\n",
    "ans:\n",
    "age = 25"
   ]
  },
  {
   "cell_type": "markdown",
   "id": "52cd3ce9-9102-484a-b087-aec2c5454841",
   "metadata": {},
   "source": [
    "Q8. Declare a variable named price and assign the value 9.99 to it. What data type does this variable belong to?\n",
    "ans:\n",
    "price = 9.99\n",
    "The data type of this variable is a floating-point number (float), as it contains a decimal point."
   ]
  },
  {
   "cell_type": "markdown",
   "id": "f3135b28-c44a-404f-9370-32d1e5ebc3a5",
   "metadata": {},
   "source": [
    "Q9. Create a variable named name and assign your full name to it as a string. How would you print the value of this variable?"
   ]
  },
  {
   "cell_type": "code",
   "execution_count": 3,
   "id": "5a3fb541-442f-4c5e-b662-310e61a49733",
   "metadata": {},
   "outputs": [
    {
     "name": "stdout",
     "output_type": "stream",
     "text": [
      "Sunil Kumar panda\n"
     ]
    }
   ],
   "source": [
    "name = \"Sunil Kumar panda\"\n",
    "print(name)"
   ]
  },
  {
   "cell_type": "markdown",
   "id": "140b2286-7f74-4914-9d5a-b3c4c93dd4de",
   "metadata": {},
   "source": [
    "Q10. Given the string \"Hello, World!\", extract the substring \"World\"."
   ]
  },
  {
   "cell_type": "code",
   "execution_count": 7,
   "id": "02771e2d-763f-485e-8687-8783d596c592",
   "metadata": {},
   "outputs": [
    {
     "name": "stdout",
     "output_type": "stream",
     "text": [
      "World\n"
     ]
    }
   ],
   "source": [
    "string = \"Hello, World!\"\n",
    "substring = string[7:12]\n",
    "print(substring)"
   ]
  },
  {
   "cell_type": "markdown",
   "id": "96fbb84f-aebd-4c78-9a7f-2a237c3e4c6f",
   "metadata": {},
   "source": [
    "Q11. Create a variable named \"is_student\" and assign it a boolean value indicating whether you are currently a student or not."
   ]
  },
  {
   "cell_type": "code",
   "execution_count": 9,
   "id": "f5149a9b-6023-44bd-a70b-035ed904a9a9",
   "metadata": {},
   "outputs": [
    {
     "name": "stdout",
     "output_type": "stream",
     "text": [
      "False\n"
     ]
    }
   ],
   "source": [
    "is_student = True  # If you are currently a student\n",
    "# OR\n",
    "is_student = False  # If you are not currently a student\n",
    "print(is_student)"
   ]
  },
  {
   "cell_type": "code",
   "execution_count": null,
   "id": "2937983b-ac96-48b8-8b46-d54c549be481",
   "metadata": {},
   "outputs": [],
   "source": []
  }
 ],
 "metadata": {
  "kernelspec": {
   "display_name": "Python 3 (ipykernel)",
   "language": "python",
   "name": "python3"
  },
  "language_info": {
   "codemirror_mode": {
    "name": "ipython",
    "version": 3
   },
   "file_extension": ".py",
   "mimetype": "text/x-python",
   "name": "python",
   "nbconvert_exporter": "python",
   "pygments_lexer": "ipython3",
   "version": "3.10.8"
  }
 },
 "nbformat": 4,
 "nbformat_minor": 5
}
