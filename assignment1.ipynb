{
 "cells": [
  {
   "cell_type": "markdown",
   "id": "b07ea999-c8b1-4130-96b8-7772184c6466",
   "metadata": {},
   "source": [
    "Q1. Create one variable containing following type of data:"
   ]
  },
  {
   "cell_type": "code",
   "execution_count": 4,
   "id": "935efcb5-8f0d-4ed1-9928-6ef11f86ad57",
   "metadata": {},
   "outputs": [],
   "source": [
    "#(i) string\n",
    "my_string = \"Hello, World!\"\n",
    "#(ii) list\n",
    "my_list = [1, 2, 3, 4, 5]\n",
    "#(iii) float\n",
    "my_float = 3.14159\n",
    "#(iv) tuple\n",
    "my_tuple = (10, 20, 30)"
   ]
  },
  {
   "cell_type": "markdown",
   "id": "7f1f2425-b4cd-4b47-aa30-8c193d42d692",
   "metadata": {},
   "source": [
    "Q2.Given are some following variables containing data:\n",
    "(i) var1 = ‘ ‘\n",
    "(ii) var2 = ‘[ DS , ML , Python]’\n",
    "(iii) var3 = [ ‘DS’ , ’ML’ , ‘Python’ ]\n",
    "(iv) var4 = 1.\n",
    "What will be the data type of the above given variable.\n",
    "\n",
    "answer:-\n",
    "\n",
    "\n",
    "(i) var1 is a string.\n",
    "(ii) var2 is a string.\n",
    "(iii) var3 is a list.\n",
    "(iv) var4 is a float."
   ]
  },
  {
   "cell_type": "markdown",
   "id": "89dd6d30-3a22-4bab-be25-cb84ac6dd6a4",
   "metadata": {},
   "source": [
    "Q3. Explain the use of the following operators using an example:\n",
    "(i) /\n",
    "(ii) %\n",
    "(iii) //\n",
    "(iv) **"
   ]
  },
  {
   "cell_type": "code",
   "execution_count": 5,
   "id": "5d78d3c1-ef8e-418a-8cf5-0948041c702b",
   "metadata": {},
   "outputs": [
    {
     "name": "stdout",
     "output_type": "stream",
     "text": [
      "3.3333333333333335\n",
      "1\n",
      "3\n",
      "8\n"
     ]
    }
   ],
   "source": [
    "#(i) / (Division Operator):The / operator is used for division in Python. It performs division and returns the quotient as a floating-point number.\n",
    "a = 10\n",
    "b = 3\n",
    "result = a / b\n",
    "print(result)\n",
    "\n",
    "    \n",
    "    \n",
    "#(ii) % (Modulo Operator):The % operator is used for modulo or remainder division. It returns the remainder of the division between two numbers.\n",
    "a = 10\n",
    "b = 3\n",
    "result = a % b\n",
    "print(result)\n",
    "\n",
    "\n",
    "    \n",
    "    \n",
    "#(iii) // (Floor Division Operator):The // operator is used for floor division. It performs division and returns the quotient as an integer, discarding any decimal places.\n",
    "a = 10\n",
    "b = 3\n",
    "result = a // b\n",
    "print(result)\n",
    "\n",
    "\n",
    "    \n",
    "#(iv) ** (Exponentiation Operator):The ** operator is used for exponentiation. It raises the first operand to the power of the second operand.\n",
    "a = 2\n",
    "b = 3\n",
    "result = a ** b\n",
    "print(result)\n",
    "\n"
   ]
  },
  {
   "cell_type": "code",
   "execution_count": 6,
   "id": "a1860f04-b51e-46bd-866f-cb473d3d25a5",
   "metadata": {},
   "outputs": [
    {
     "name": "stdout",
     "output_type": "stream",
     "text": [
      "Element: 42, Data Type: <class 'int'>\n",
      "Element: Hello, Data Type: <class 'str'>\n",
      "Element: 3.14, Data Type: <class 'float'>\n",
      "Element: True, Data Type: <class 'bool'>\n",
      "Element: [1, 2, 3], Data Type: <class 'list'>\n",
      "Element: {'name': 'John', 'age': 25}, Data Type: <class 'dict'>\n",
      "Element: (1, 2), Data Type: <class 'tuple'>\n",
      "Element: None, Data Type: <class 'NoneType'>\n",
      "Element: False, Data Type: <class 'bool'>\n",
      "Element: World, Data Type: <class 'str'>\n"
     ]
    }
   ],
   "source": [
    "#Q4. Create a list of length 10 of your choice containing multiple types of data. Using for loop print the element and its data type.\n",
    "my_list = [42, 'Hello', 3.14, True, [1, 2, 3], {'name': 'John', 'age': 25}, (1, 2), None, False, 'World']\n",
    "\n",
    "for element in my_list:\n",
    "    print(f\"Element: {element}, Data Type: {type(element)}\")\n"
   ]
  },
  {
   "cell_type": "code",
   "execution_count": 8,
   "id": "a351e3d1-9764-46df-83bd-3c1893113e08",
   "metadata": {},
   "outputs": [
    {
     "name": "stdout",
     "output_type": "stream",
     "text": [
      "Number A is divisible by number B 2 times.\n"
     ]
    }
   ],
   "source": [
    "#Q5. Using a while loop, verify if the number A is purely divisible by number B and if so then how many times it can be divisible.\n",
    "A = 100\n",
    "B = 5\n",
    "\n",
    "count = 0\n",
    "while A % B == 0:\n",
    "    A = A / B\n",
    "    count += 1\n",
    "\n",
    "print(f\"Number A is divisible by number B {count} times.\")\n"
   ]
  },
  {
   "cell_type": "code",
   "execution_count": 9,
   "id": "f0b26be7-0ddc-40f5-8c8c-585a32d52c81",
   "metadata": {},
   "outputs": [
    {
     "name": "stdout",
     "output_type": "stream",
     "text": [
      "15 is divisible by 3\n",
      "6 is divisible by 3\n",
      "9 is divisible by 3\n",
      "20 is not divisible by 3\n",
      "7 is not divisible by 3\n",
      "12 is divisible by 3\n",
      "18 is divisible by 3\n",
      "21 is divisible by 3\n",
      "4 is not divisible by 3\n",
      "30 is divisible by 3\n",
      "11 is not divisible by 3\n",
      "25 is not divisible by 3\n",
      "36 is divisible by 3\n",
      "14 is not divisible by 3\n",
      "27 is divisible by 3\n",
      "8 is not divisible by 3\n",
      "17 is not divisible by 3\n",
      "22 is not divisible by 3\n",
      "33 is divisible by 3\n",
      "10 is not divisible by 3\n",
      "13 is not divisible by 3\n",
      "16 is not divisible by 3\n",
      "19 is not divisible by 3\n",
      "24 is divisible by 3\n",
      "3 is divisible by 3\n"
     ]
    }
   ],
   "source": [
    "#Q6. Create a list containing 25 int type data. Using for loop and if-else condition print if the element is divisible by 3 or not.\n",
    "my_list = [15, 6, 9, 20, 7, 12, 18, 21, 4, 30, 11, 25, 36, 14, 27, 8, 17, 22, 33, 10, 13, 16, 19, 24, 3]\n",
    "\n",
    "for element in my_list:\n",
    "    if element % 3 == 0:\n",
    "        print(f\"{element} is divisible by 3\")\n",
    "    else:\n",
    "        print(f\"{element} is not divisible by 3\")\n"
   ]
  },
  {
   "cell_type": "code",
   "execution_count": 11,
   "id": "a71f7f0a-0bb6-4e48-9aae-eb4d47f1d730",
   "metadata": {},
   "outputs": [
    {
     "name": "stdout",
     "output_type": "stream",
     "text": [
      "[1, 2, 3]\n",
      "[1, 2, 3, 4]\n"
     ]
    },
    {
     "ename": "TypeError",
     "evalue": "'str' object does not support item assignment",
     "output_type": "error",
     "traceback": [
      "\u001b[0;31m---------------------------------------------------------------------------\u001b[0m",
      "\u001b[0;31mTypeError\u001b[0m                                 Traceback (most recent call last)",
      "Cell \u001b[0;32mIn[11], line 9\u001b[0m\n\u001b[1;32m      7\u001b[0m \u001b[38;5;66;03m#Immutable Data Types:Immutable data types are those whose values cannot be changed once they are created.\u001b[39;00m\n\u001b[1;32m      8\u001b[0m \u001b[38;5;28mstr\u001b[39m\u001b[38;5;241m=\u001b[39m\u001b[38;5;124m'\u001b[39m\u001b[38;5;124mHello world\u001b[39m\u001b[38;5;124m'\u001b[39m\n\u001b[0;32m----> 9\u001b[0m \u001b[38;5;28;43mstr\u001b[39;49m\u001b[43m[\u001b[49m\u001b[38;5;241;43m1\u001b[39;49m\u001b[43m]\u001b[49m\u001b[38;5;241m=\u001b[39m\u001b[38;5;124m'\u001b[39m\u001b[38;5;124mS\u001b[39m\u001b[38;5;124m'\u001b[39m\n\u001b[1;32m     10\u001b[0m \u001b[38;5;28mprint\u001b[39m(\u001b[38;5;28mstr\u001b[39m)\n",
      "\u001b[0;31mTypeError\u001b[0m: 'str' object does not support item assignment"
     ]
    }
   ],
   "source": [
    "#Q7. What do you understand about mutable and immutable data types? Give examples for both showing this property.\n",
    "#Mutable Data Types:Mutable data types are those that can be changed or modified after they are created.Ex- lists, dictionaries, sets\n",
    "my_list = [1, 2, 3]\n",
    "print(my_list)\n",
    "my_list.append(4)\n",
    "print(my_list)\n",
    "#Immutable Data Types:Immutable data types are those whose values cannot be changed once they are created.Ex-strings, tuples, and frozensets\n",
    "str='Hello world'\n",
    "str[1]='S'\n",
    "print(str)"
   ]
  },
  {
   "cell_type": "code",
   "execution_count": null,
   "id": "cefa0cf8-cdeb-434d-95e2-0512d93eee49",
   "metadata": {},
   "outputs": [],
   "source": []
  }
 ],
 "metadata": {
  "kernelspec": {
   "display_name": "Python 3 (ipykernel)",
   "language": "python",
   "name": "python3"
  },
  "language_info": {
   "codemirror_mode": {
    "name": "ipython",
    "version": 3
   },
   "file_extension": ".py",
   "mimetype": "text/x-python",
   "name": "python",
   "nbconvert_exporter": "python",
   "pygments_lexer": "ipython3",
   "version": "3.10.8"
  }
 },
 "nbformat": 4,
 "nbformat_minor": 5
}
